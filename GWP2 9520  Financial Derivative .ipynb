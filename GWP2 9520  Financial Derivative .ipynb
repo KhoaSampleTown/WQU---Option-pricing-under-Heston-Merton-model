{
 "cells": [
  {
   "cell_type": "code",
   "execution_count": 17,
   "id": "5312f00a-673e-4f92-9b5d-4a5e1e048946",
   "metadata": {},
   "outputs": [],
   "source": [
    "import numpy as np\n",
    "\n",
    "# Global Parameters\n",
    "S0 = 80\n",
    "K = 80\n",
    "T = 0.25\n",
    "r = 0.055\n",
    "v0 = 0.032\n",
    "kappa = 1.85\n",
    "theta = 0.045\n",
    "sigma_v = 0.35\n",
    "n_steps = 100\n",
    "n_paths = 100000 # Monte Carlo paths\n",
    "dt = T / n_steps\n",
    "\n"
   ]
  },
  {
   "cell_type": "code",
   "execution_count": 19,
   "id": "6ef9d9a3-574f-426a-a752-d0636ba6de51",
   "metadata": {},
   "outputs": [
    {
     "name": "stdout",
     "output_type": "stream",
     "text": [
      "Correlation -0.3 | Call: $2.88 | Put: $1.79\n",
      "Correlation -0.7 | Call: $2.13 | Put: $1.03\n"
     ]
    }
   ],
   "source": [
    "\n",
    "#Q5 & Q6: European Option Pricing Using Heston Model (Monte Carlo Simulation)\n",
    "\n",
    "def heston_mc_parity_safe(S0, K, T, r, v0, kappa, theta, sigma_v, rho, n_paths, n_steps):\n",
    "    np.random.seed(42)\n",
    "    dt = T / n_steps\n",
    "    S = np.full(n_paths, S0, dtype=float)\n",
    "    v = np.full(n_paths, v0, dtype=float)\n",
    "\n",
    "    for _ in range(n_steps):\n",
    "        z1 = np.random.normal(size=n_paths)\n",
    "        z2 = np.random.normal(size=n_paths)\n",
    "        w1 = z1\n",
    "        w2 = rho * z1 + np.sqrt(1 - rho**2) * z2\n",
    "        v = np.maximum(0, v + kappa * (theta - v) * dt + sigma_v * np.sqrt(v * dt) * w2)\n",
    "        S *= np.exp((r - 0.5 * v) * dt + np.sqrt(v * dt) * w1)\n",
    "\n",
    "    call_payoffs = np.maximum(S - K, 0)\n",
    "    call_price = np.exp(-r * T) * np.mean(call_payoffs)\n",
    "\n",
    "    discounted_strike = K * np.exp(-r * T)\n",
    "    put_price = call_price - (S0 - discounted_strike)\n",
    "\n",
    "    return S, round(call_price, 2), round(put_price, 2)\n",
    "\n",
    "# Run for rho = -0.3 and -0.7\n",
    "results = {}\n",
    "for rho in [-0.3, -0.7]:\n",
    "    S_paths, call, put = heston_mc_parity_safe(S0, K, T, r, v0, kappa, theta, sigma_v, rho, n_paths, n_steps)\n",
    "    results[rho] = (call, put)\n",
    "\n",
    "# Print results\n",
    "for rho, (call, put) in results.items():\n",
    "    print(f\"Correlation {rho} | Call: ${call} | Put: ${put}\")\n"
   ]
  },
  {
   "cell_type": "code",
   "execution_count": 21,
   "id": "784c04e6-1b18-4683-b3e6-d99dc19bf5d5",
   "metadata": {},
   "outputs": [
    {
     "name": "stdout",
     "output_type": "stream",
     "text": [
      "Correlation -0.3 | Delta: 0.5387 | Gamma: 0.0566\n",
      "Correlation -0.7 | Delta: 0.4838 | Gamma: 0.0572\n"
     ]
    }
   ],
   "source": [
    "#Q7: Numerical Delta and Gamma\n",
    "\n",
    "def numerical_greeks_shared(S0, K, T, r, v0, kappa, theta, sigma_v, rho, h=0.5):\n",
    "    np.random.seed(100)\n",
    "    S_up = np.full(n_paths, S0 + h, dtype=float)\n",
    "    S_mid = np.full(n_paths, S0, dtype=float)\n",
    "    S_down = np.full(n_paths, S0 - h, dtype=float)\n",
    "\n",
    "    v_up = np.full(n_paths, v0, dtype=float)\n",
    "    v_mid = np.full(n_paths, v0, dtype=float)\n",
    "    v_down = np.full(n_paths, v0, dtype=float)\n",
    "\n",
    "    for _ in range(n_steps):\n",
    "        z1 = np.random.normal(size=n_paths)\n",
    "        z2 = np.random.normal(size=n_paths)\n",
    "        w1 = z1\n",
    "        w2 = rho * z1 + np.sqrt(1 - rho**2) * z2\n",
    "\n",
    "        for S, v in zip([S_up, S_mid, S_down], [v_up, v_mid, v_down]):\n",
    "            v[:] = np.maximum(0, v + kappa * (theta - v) * dt + sigma_v * np.sqrt(v * dt) * w2)\n",
    "            S[:] *= np.exp((r - 0.5 * v) * dt + np.sqrt(v * dt) * w1)\n",
    "\n",
    "    call_up = np.exp(-r * T) * np.mean(np.maximum(S_up - K, 0))\n",
    "    call_mid = np.exp(-r * T) * np.mean(np.maximum(S_mid - K, 0))\n",
    "    call_down = np.exp(-r * T) * np.mean(np.maximum(S_down - K, 0))\n",
    "\n",
    "    delta = (call_up - call_down) / (2 * h)\n",
    "    gamma = (call_up - 2 * call_mid + call_down) / (h ** 2)\n",
    "\n",
    "    return round(delta, 4), round(gamma, 4)\n",
    "\n",
    "# Compute for both rho values\n",
    "for rho in [-0.3, -0.7]:\n",
    "    delta, gamma = numerical_greeks_shared(S0, K, T, r, v0, kappa, theta, sigma_v, rho)\n",
    "    print(f\"Correlation {rho} | Delta: {delta} | Gamma: {gamma}\")\n",
    "\n"
   ]
  },
  {
   "cell_type": "code",
   "execution_count": 23,
   "id": "b339e4ce-aa4e-4c46-8462-82632671491f",
   "metadata": {},
   "outputs": [
    {
     "name": "stdout",
     "output_type": "stream",
     "text": [
      "American Call Price (Approx): $3.93\n"
     ]
    }
   ],
   "source": [
    "\n",
    "#Q13: American Call Option Under Heston via Binomial Tree\n",
    "\n",
    "def binomial_american_call(S0, K, T, r, sigma, N=100):\n",
    "    dt = T / N\n",
    "    u = np.exp(sigma * np.sqrt(dt))\n",
    "    d = 1 / u\n",
    "    p = (np.exp(r * dt) - d) / (u - d)\n",
    "\n",
    "    prices = np.zeros(N + 1)\n",
    "    values = np.zeros(N + 1)\n",
    "\n",
    "    for i in range(N + 1):\n",
    "        prices[i] = S0 * (u ** (N - i)) * (d ** i)\n",
    "        values[i] = max(prices[i] - K, 0)\n",
    "\n",
    "    for j in range(N - 1, -1, -1):\n",
    "        for i in range(j + 1):\n",
    "            prices[i] = prices[i] / u\n",
    "            values[i] = max(prices[i] - K, np.exp(-r * dt) * (p * values[i] + (1 - p) * values[i + 1]))\n",
    "\n",
    "    return round(values[0], 2)\n",
    "\n",
    "# Use Heston long-run vol ≈ sqrt(theta)\n",
    "sigma_equiv = np.sqrt(theta)\n",
    "am_call_price = binomial_american_call(S0, K, T, r, sigma=sigma_equiv)\n",
    "print(f\"American Call Price (Approx): ${am_call_price}\")\n"
   ]
  },
  {
   "cell_type": "code",
   "execution_count": 25,
   "id": "36731d00-9ae4-49e2-a2c5-e26fc30136bd",
   "metadata": {},
   "outputs": [
    {
     "name": "stdout",
     "output_type": "stream",
     "text": [
      "European Up-and-In Call Price: $0.01\n"
     ]
    }
   ],
   "source": [
    "\n",
    "# Q14: European Up-and-In Call Option Under Heston\n",
    "\n",
    "def up_and_in_call_from_paths(S0, K, H, T, r, v0, kappa, theta, sigma_v, rho, n_paths, n_steps):\n",
    "    np.random.seed(42)\n",
    "    S = np.full(n_paths, S0, dtype=float)\n",
    "    v = np.full(n_paths, v0, dtype=float)\n",
    "    hit_barrier = np.zeros(n_paths, dtype=bool)\n",
    "\n",
    "    for _ in range(n_steps):\n",
    "        z1 = np.random.normal(size=n_paths)\n",
    "        z2 = np.random.normal(size=n_paths)\n",
    "        w1 = z1\n",
    "        w2 = rho * z1 + np.sqrt(1 - rho**2) * z2\n",
    "        v = np.maximum(0, v + kappa * (theta - v) * dt + sigma_v * np.sqrt(v * dt) * w2)\n",
    "        S *= np.exp((r - 0.5 * v) * dt + np.sqrt(v * dt) * w1)\n",
    "        hit_barrier |= (S >= H)\n",
    "\n",
    "    payoffs = np.where(hit_barrier, np.maximum(S - K, 0), 0)\n",
    "    return round(np.exp(-r * T) * np.mean(payoffs), 2)\n",
    "\n",
    "# Q14: Up-and-In Call with barrier = strike = 95 using rho = -0.7\n",
    "up_in_price = up_and_in_call_from_paths(S0, K=95, H=95, T=T, r=r,\n",
    "                                        v0=v0, kappa=kappa, theta=theta,\n",
    "                                        sigma_v=sigma_v, rho=-0.7,\n",
    "                                        n_paths=n_paths, n_steps=n_steps)\n",
    "print(f\"European Up-and-In Call Price: ${up_in_price}\")\n"
   ]
  },
  {
   "cell_type": "code",
   "execution_count": null,
   "id": "caf01a90-9ae8-4038-b7f4-133418ddfb3e",
   "metadata": {},
   "outputs": [],
   "source": []
  },
  {
   "cell_type": "markdown",
   "id": "e2709d73-12e4-432c-af78-7812e27c5f70",
   "metadata": {},
   "source": [
    "# QUESTION 8"
   ]
  },
  {
   "cell_type": "code",
   "execution_count": null,
   "id": "e2ff08d7-b666-44d7-aa5e-478166dab68b",
   "metadata": {},
   "outputs": [],
   "source": []
  },
  {
   "cell_type": "code",
   "execution_count": 18,
   "id": "a3239d05-e372-40eb-b0e6-f2020ec459e1",
   "metadata": {},
   "outputs": [
    {
     "name": "stdout",
     "output_type": "stream",
     "text": [
      "✅ Q8: European Option Prices using Merton Model (λ = 0.75)\n",
      "  Option Type  Strike  λ (Jump Intensity)   Price\n",
      "0        Call      80                0.75  8.2684\n",
      "1         Put      80                0.75  7.1743\n"
     ]
    }
   ],
   "source": [
    "import numpy as np\n",
    "import pandas as pd\n",
    "\n",
    "def merton_jump_diffusion_price(S0, K, r, sigma, T, mu_j, delta_j, lam, option_type=\"call\", n_paths=100000, n_steps=100):\n",
    "    dt = T / n_steps\n",
    "    drift = r - lam * (np.exp(mu_j + 0.5 * delta_j ** 2) - 1) - 0.5 * sigma ** 2\n",
    "    prices = np.full(n_paths, S0, dtype=np.float64)  # Ensure correct data type\n",
    "    \n",
    "    for step in range(n_steps):\n",
    "        z = np.random.normal(0, 1, n_paths)\n",
    "        poisson = np.random.poisson(lam * dt, n_paths)\n",
    "        jump_magnitude = np.random.normal(mu_j, delta_j, n_paths)\n",
    "        jump_factor = np.exp(jump_magnitude * poisson)\n",
    "        prices *= np.exp(drift * dt + sigma * np.sqrt(dt) * z) * jump_factor\n",
    "\n",
    "    if option_type == \"call\":\n",
    "        payoffs = np.maximum(prices - K, 0)\n",
    "    else:\n",
    "        payoffs = np.maximum(K - prices, 0)\n",
    "\n",
    "    discounted_payoff = np.exp(-r * T) * payoffs\n",
    "    return round(np.mean(discounted_payoff), 4)\n",
    "\n",
    "# Parameters\n",
    "S0 = 80\n",
    "K = 80\n",
    "r = 0.055\n",
    "sigma = 0.35\n",
    "T = 0.25\n",
    "mu_j = -0.5\n",
    "delta_j = 0.22\n",
    "lam = 0.75\n",
    "n_paths = 100000\n",
    "n_steps = 100\n",
    "\n",
    "# Calculate option prices for Question 8\n",
    "call_price_q8 = merton_jump_diffusion_price(S0, K, r, sigma, T, mu_j, delta_j, lam, \"call\")\n",
    "put_price_q8 = merton_jump_diffusion_price(S0, K, r, sigma, T, mu_j, delta_j, lam, \"put\")\n",
    "\n",
    "# Display results in a table\n",
    "df_q8 = pd.DataFrame({\n",
    "    \"Option Type\": [\"Call\", \"Put\"],\n",
    "    \"Strike\": [K, K],\n",
    "    \"λ (Jump Intensity)\": [lam, lam],\n",
    "    \"Price\": [call_price_q8, put_price_q8]\n",
    "})\n",
    "\n",
    "print(\"✅ Q8: European Option Prices using Merton Model (λ = 0.75)\")\n",
    "print(df_q8)\n"
   ]
  },
  {
   "cell_type": "code",
   "execution_count": 19,
   "id": "d0f04eed-96f3-45b3-9ed3-0e61971e3b7a",
   "metadata": {},
   "outputs": [
    {
     "name": "stdout",
     "output_type": "stream",
     "text": [
      "Put-Call Parity Value: 1.0925\n",
      "Computed Difference (Question 8): 0.0016\n",
      "✅ The results from Question 8 satisfy put-call parity!\n"
     ]
    }
   ],
   "source": [
    "# Compute theoretical value from put-call parity\n",
    "put_call_parity_value = S0 - K * np.exp(-r * T)\n",
    "\n",
    "# Compute difference from actual values\n",
    "difference_q8 = abs(call_price_q8 - put_price_q8 - put_call_parity_value)\n",
    "\n",
    "print(f\"Put-Call Parity Value: {put_call_parity_value:.4f}\")\n",
    "print(f\"Computed Difference (Question 8): {difference_q8:.4f}\")\n",
    "\n",
    "# Check if the difference is small\n",
    "if difference_q8 < 0.01:  # Allowing slight numerical precision issues\n",
    "    print(\"✅ The results from Question 8 satisfy put-call parity!\")\n",
    "else:\n",
    "    print(\"❌ There might be a deviation from put-call parity.\")\n"
   ]
  },
  {
   "cell_type": "markdown",
   "id": "d970b232-ce2b-4868-b619-9caf6cf48768",
   "metadata": {},
   "source": [
    "# QUESTION 9"
   ]
  },
  {
   "cell_type": "code",
   "execution_count": 20,
   "id": "f6cd67c3-b077-409b-81ab-d8ed5adeb5d2",
   "metadata": {},
   "outputs": [
    {
     "name": "stdout",
     "output_type": "stream",
     "text": [
      "✅ Q9: European Option Prices using Merton Model (λ = 0.25)\n",
      "  Option Type  Strike  λ (Jump Intensity)   Price\n",
      "0        Call      80                0.25  6.8220\n",
      "1         Put      80                0.25  5.7428\n"
     ]
    }
   ],
   "source": [
    "\n",
    "lam_q9 = 0.25\n",
    "\n",
    "\n",
    "call_price_q9 = merton_jump_diffusion_price(S0, K, r, sigma, T, mu_j, delta_j, lam_q9, \"call\")\n",
    "put_price_q9 = merton_jump_diffusion_price(S0, K, r, sigma, T, mu_j, delta_j, lam_q9, \"put\")\n",
    "\n",
    "\n",
    "df_q9 = pd.DataFrame({\n",
    "    \"Option Type\": [\"Call\", \"Put\"],\n",
    "    \"Strike\": [K, K],\n",
    "    \"λ (Jump Intensity)\": [lam_q9, lam_q9],\n",
    "    \"Price\": [call_price_q9, put_price_q9]\n",
    "})\n",
    "\n",
    "print(\"✅ Q9: European Option Prices using Merton Model (λ = 0.25)\")\n",
    "print(df_q9)\n"
   ]
  },
  {
   "cell_type": "code",
   "execution_count": 21,
   "id": "cbf49258-8ea7-46f0-bcb5-73984cc8621d",
   "metadata": {},
   "outputs": [
    {
     "name": "stdout",
     "output_type": "stream",
     "text": [
      "\n",
      "Put-Call Parity Check for λ = 0.25:\n",
      "LHS (Call + PV(K)) = 6.8220 + 80*e^(-0.055*0.25) = 85.7295\n",
      "RHS (Put + S0)     = 5.7428 + 80 = 85.7428\n",
      "❌ Parity Not Satisfied\n"
     ]
    }
   ],
   "source": [
    "\n",
    "lhs_q9 = call_price_q9 + K * np.exp(-r * T)\n",
    "rhs_q9 = put_price_q9 + S0\n",
    "\n",
    "print(f\"\\nPut-Call Parity Check for λ = 0.25:\")\n",
    "print(f\"LHS (Call + PV(K)) = {call_price_q9:.4f} + {K}*e^(-{r}*{T}) = {lhs_q9:.4f}\")\n",
    "print(f\"RHS (Put + S0)     = {put_price_q9:.4f} + {S0} = {rhs_q9:.4f}\")\n",
    "print(\"✅ Parity Satisfied\" if abs(lhs_q9 - rhs_q9) < 0.01 else \"❌ Parity Not Satisfied\")\n"
   ]
  },
  {
   "cell_type": "code",
   "execution_count": null,
   "id": "0bda8663-0789-434a-ae7f-6d2a21c2201f",
   "metadata": {},
   "outputs": [],
   "source": []
  },
  {
   "cell_type": "code",
   "execution_count": 22,
   "id": "b4fcca90-1b8e-4e7b-8f34-39151d473e96",
   "metadata": {},
   "outputs": [
    {
     "name": "stdout",
     "output_type": "stream",
     "text": [
      "✅ Q9: European Option Prices using Merton Model (λ = 0.25)\n",
      "  Option Type  Strike  λ (Jump Intensity)   Price\n",
      "0        Call      80                0.25  6.8131\n",
      "1         Put      80                0.25  5.7350\n"
     ]
    }
   ],
   "source": [
    "\n",
    "lam_q9 = 0.25\n",
    "\n",
    "\n",
    "call_price_q9 = merton_jump_diffusion_price(S0, K, r, sigma, T, mu_j, delta_j, lam_q9, \"call\")\n",
    "put_price_q9 = merton_jump_diffusion_price(S0, K, r, sigma, T, mu_j, delta_j, lam_q9, \"put\")\n",
    "\n",
    "\n",
    "df_q9 = pd.DataFrame({\n",
    "    \"Option Type\": [\"Call\", \"Put\"],\n",
    "    \"Strike\": [K, K],\n",
    "    \"λ (Jump Intensity)\": [lam_q9, lam_q9],\n",
    "    \"Price\": [call_price_q9, put_price_q9]\n",
    "})\n",
    "\n",
    "print(\"✅ Q9: European Option Prices using Merton Model (λ = 0.25)\")\n",
    "print(df_q9)\n"
   ]
  },
  {
   "cell_type": "code",
   "execution_count": 23,
   "id": "e85ec718-7a9c-4fdf-8fe6-6c1072fd8bc3",
   "metadata": {},
   "outputs": [
    {
     "name": "stdout",
     "output_type": "stream",
     "text": [
      "Put-Call Parity Value: 1.0925\n",
      "Computed Difference (Question 9): 0.0144\n",
      "❌ There might be a deviation from put-call parity.\n"
     ]
    }
   ],
   "source": [
    "\n",
    "put_call_parity_value_q9 = S0 - K * np.exp(-r * T)\n",
    "\n",
    "\n",
    "difference_q9 = abs(call_price_q9 - put_price_q9 - put_call_parity_value_q9)\n",
    "\n",
    "print(f\"Put-Call Parity Value: {put_call_parity_value_q9:.4f}\")\n",
    "print(f\"Computed Difference (Question 9): {difference_q9:.4f}\")\n",
    "\n",
    "\n",
    "if difference_q9 < 0.01:  \n",
    "    print(\"✅ The results from Question 9 satisfy put-call parity!\")\n",
    "else:\n",
    "    print(\"❌ There might be a deviation from put-call parity.\")\n"
   ]
  },
  {
   "cell_type": "code",
   "execution_count": 24,
   "id": "e895f8ec-6f62-46bc-87f0-66d0c310abb9",
   "metadata": {},
   "outputs": [
    {
     "name": "stdout",
     "output_type": "stream",
     "text": [
      "✅ Q9: European Option Prices using Merton Model (λ = 0.25) with higher accuracy\n",
      "  Option Type  Strike  λ (Jump Intensity)     Price\n",
      "0        Call      80                0.25  6.838632\n",
      "1         Put      80                0.25  5.749366\n",
      "Put-Call Parity Value: 1.092472\n",
      "Computed Difference (Question 9): 0.003206\n",
      "✅ The results now satisfy put-call parity!\n"
     ]
    }
   ],
   "source": [
    "import numpy as np\n",
    "import pandas as pd\n",
    "\n",
    "def merton_jump_diffusion_price(S0, K, r, sigma, T, mu_j, delta_j, lam, option_type=\"call\", n_paths=500000, n_steps=500):\n",
    "    dt = T / n_steps\n",
    "    drift = r - lam * (np.exp(mu_j + 0.5 * delta_j ** 2) - 1) - 0.5 * sigma ** 2\n",
    "    prices = np.full(n_paths, S0, dtype=np.float64)  # Ensuring correct data type\n",
    "\n",
    "    for step in range(n_steps):\n",
    "        z = np.random.normal(0, 1, n_paths)\n",
    "        poisson = np.random.poisson(lam * dt, n_paths)\n",
    "        jump_magnitude = np.random.normal(mu_j, delta_j, n_paths)\n",
    "        jump_factor = np.exp(jump_magnitude * poisson)\n",
    "        prices *= np.exp(drift * dt + sigma * np.sqrt(dt) * z) * jump_factor\n",
    "\n",
    "    if option_type == \"call\":\n",
    "        payoffs = np.maximum(prices - K, 0)\n",
    "    else:\n",
    "        payoffs = np.maximum(K - prices, 0)\n",
    "\n",
    "    discounted_payoff = np.exp(-r * T) * payoffs\n",
    "    return round(np.mean(discounted_payoff), 6)  \n",
    "\n",
    "\n",
    "S0 = 80\n",
    "K = 80\n",
    "r = 0.055\n",
    "sigma = 0.35\n",
    "T = 0.25\n",
    "mu_j = -0.5\n",
    "delta_j = 0.22\n",
    "lam_q9 = 0.25\n",
    "\n",
    "\n",
    "call_price_q9 = merton_jump_diffusion_price(S0, K, r, sigma, T, mu_j, delta_j, lam_q9, \"call\")\n",
    "put_price_q9 = merton_jump_diffusion_price(S0, K, r, sigma, T, mu_j, delta_j, lam_q9, \"put\")\n",
    "\n",
    "\n",
    "df_q9 = pd.DataFrame({\n",
    "    \"Option Type\": [\"Call\", \"Put\"],\n",
    "    \"Strike\": [K, K],\n",
    "    \"λ (Jump Intensity)\": [lam_q9, lam_q9],\n",
    "    \"Price\": [call_price_q9, put_price_q9]\n",
    "})\n",
    "\n",
    "print(\"✅ Q9: European Option Prices using Merton Model (λ = 0.25) with higher accuracy\")\n",
    "print(df_q9)\n",
    "\n",
    "\n",
    "put_call_parity_value_q9 = S0 - K * np.exp(-r * T)\n",
    "difference_q9 = abs(call_price_q9 - put_price_q9 - put_call_parity_value_q9)\n",
    "\n",
    "print(f\"Put-Call Parity Value: {put_call_parity_value_q9:.6f}\")\n",
    "print(f\"Computed Difference (Question 9): {difference_q9:.6f}\")\n",
    "\n",
    "# Check if the difference is small\n",
    "if difference_q9 < 0.01:  # Allowing slight numerical precision issues\n",
    "    print(\"✅ The results now satisfy put-call parity!\")\n",
    "else:\n",
    "    print(\"❌ The deviation still exists, but should be smaller.\")\n"
   ]
  },
  {
   "cell_type": "code",
   "execution_count": null,
   "id": "f1fb4bed-9d9f-4e5a-98de-cb66fbefac79",
   "metadata": {},
   "outputs": [],
   "source": []
  },
  {
   "cell_type": "markdown",
   "id": "2d20c8e9-65a8-480a-b31f-d7f455e47c9d",
   "metadata": {},
   "source": [
    "# QUESTION 10"
   ]
  },
  {
   "cell_type": "code",
   "execution_count": 25,
   "id": "4f786303-3af8-4ab8-8a3a-714d517e88d2",
   "metadata": {},
   "outputs": [
    {
     "name": "stdout",
     "output_type": "stream",
     "text": [
      "✅ Q10: Delta & Gamma for Merton Model Options\n",
      "     Option Type  Delta (Δ)  Gamma (Γ)\n",
      "0  Call (λ=0.75)    1.39990    -471.76\n",
      "1   Put (λ=0.75)    0.18450    -129.30\n",
      "2  Call (λ=0.25)    0.15565    -585.95\n",
      "3   Put (λ=0.25)    1.30745    -159.53\n"
     ]
    }
   ],
   "source": [
    "import numpy as np\n",
    "\n",
    "def compute_delta_gamma(S0, K, r, sigma, T, mu_j, delta_j, lam, option_type=\"call\", h=0.01):\n",
    "    # Compute option prices at S0 + h, S0, and S0 - h\n",
    "    C_plus = merton_jump_diffusion_price(S0 + h, K, r, sigma, T, mu_j, delta_j, lam, option_type)\n",
    "    C_minus = merton_jump_diffusion_price(S0 - h, K, r, sigma, T, mu_j, delta_j, lam, option_type)\n",
    "    C_base = merton_jump_diffusion_price(S0, K, r, sigma, T, mu_j, delta_j, lam, option_type)\n",
    "\n",
    "    # Compute Delta\n",
    "    delta = (C_plus - C_minus) / (2 * h)\n",
    "\n",
    "    # Compute Gamma\n",
    "    gamma = (C_plus - 2 * C_base + C_minus) / (h ** 2)\n",
    "\n",
    "    return round(delta, 6), round(gamma, 6)\n",
    "\n",
    "# Parameters\n",
    "S0 = 80\n",
    "K = 80\n",
    "r = 0.055\n",
    "sigma = 0.35\n",
    "T = 0.25\n",
    "mu_j = -0.5\n",
    "delta_j = 0.22\n",
    "\n",
    "# Compute Delta & Gamma for Question 8 (λ = 0.75)\n",
    "lam_q8 = 0.75\n",
    "delta_q8_call, gamma_q8_call = compute_delta_gamma(S0, K, r, sigma, T, mu_j, delta_j, lam_q8, \"call\")\n",
    "delta_q8_put, gamma_q8_put = compute_delta_gamma(S0, K, r, sigma, T, mu_j, delta_j, lam_q8, \"put\")\n",
    "\n",
    "# Compute Delta & Gamma for Question 9 (λ = 0.25)\n",
    "lam_q9 = 0.25\n",
    "delta_q9_call, gamma_q9_call = compute_delta_gamma(S0, K, r, sigma, T, mu_j, delta_j, lam_q9, \"call\")\n",
    "delta_q9_put, gamma_q9_put = compute_delta_gamma(S0, K, r, sigma, T, mu_j, delta_j, lam_q9, \"put\")\n",
    "\n",
    "# Display results in a table\n",
    "import pandas as pd\n",
    "\n",
    "df_q10 = pd.DataFrame({\n",
    "    \"Option Type\": [\"Call (λ=0.75)\", \"Put (λ=0.75)\", \"Call (λ=0.25)\", \"Put (λ=0.25)\"],\n",
    "    \"Delta (Δ)\": [delta_q8_call, delta_q8_put, delta_q9_call, delta_q9_put],\n",
    "    \"Gamma (Γ)\": [gamma_q8_call, gamma_q8_put, gamma_q9_call, gamma_q9_put]\n",
    "})\n",
    "\n",
    "print(\"✅ Q10: Delta & Gamma for Merton Model Options\")\n",
    "print(df_q10)\n"
   ]
  },
  {
   "cell_type": "code",
   "execution_count": null,
   "id": "0bc7b628-885e-4a1e-b134-100d4b415b06",
   "metadata": {},
   "outputs": [],
   "source": []
  },
  {
   "cell_type": "markdown",
   "id": "1bfccebd-e95f-45a2-9abf-1c22a671d85a",
   "metadata": {},
   "source": [
    "# Q15"
   ]
  },
  {
   "cell_type": "code",
   "execution_count": 26,
   "id": "80fa07a2-313c-424b-ae95-5904309ca877",
   "metadata": {},
   "outputs": [
    {
     "name": "stdout",
     "output_type": "stream",
     "text": [
      "✅ Q15: European Down-and-In Put Option Pricing using Merton Model\n",
      "       Option Type  Strike  Barrier Level  Jump Intensity (λ)     Price\n",
      "0  Down-and-In Put      65             65                0.75  2.761321\n"
     ]
    }
   ],
   "source": [
    "import numpy as np\n",
    "import pandas as pd\n",
    "\n",
    "def merton_down_in_put(S0, K, r, sigma, T, mu_j, delta_j, lam, barrier, n_paths=500000, n_steps=500):\n",
    "    dt = T / n_steps\n",
    "    drift = r - lam * (np.exp(mu_j + 0.5 * delta_j ** 2) - 1) - 0.5 * sigma ** 2\n",
    "    prices = np.full(n_paths, S0, dtype=np.float64)\n",
    "    barrier_hit = np.zeros(n_paths, dtype=bool)  # Track barrier breach\n",
    "\n",
    "    for step in range(n_steps):\n",
    "        z = np.random.normal(0, 1, n_paths)\n",
    "        poisson = np.random.poisson(lam * dt, n_paths)\n",
    "        jump_magnitude = np.random.normal(mu_j, delta_j, n_paths)\n",
    "        jump_factor = np.exp(jump_magnitude * poisson)\n",
    "        prices *= np.exp(drift * dt + sigma * np.sqrt(dt) * z) * jump_factor\n",
    "\n",
    "        # Check if barrier is breached\n",
    "        barrier_hit |= (prices <= barrier)\n",
    "\n",
    "    # Compute payoffs only for paths where barrier was breached\n",
    "    payoffs = np.maximum(K - prices, 0) * barrier_hit\n",
    "    discounted_payoff = np.exp(-r * T) * payoffs\n",
    "\n",
    "    return round(np.mean(discounted_payoff), 6)\n",
    "\n",
    "# Parameters\n",
    "S0 = 80\n",
    "K = 65  # Strike price\n",
    "r = 0.055\n",
    "sigma = 0.35\n",
    "T = 0.25\n",
    "mu_j = -0.5\n",
    "delta_j = 0.22\n",
    "lam_q8 = 0.75  # Jump intensity from Question 8\n",
    "barrier = 65  # Barrier level\n",
    "\n",
    "# Compute Down-and-In Put Price\n",
    "pdi_price_q15 = merton_down_in_put(S0, K, r, sigma, T, mu_j, delta_j, lam_q8, barrier)\n",
    "\n",
    "# Display result\n",
    "df_q15 = pd.DataFrame({\n",
    "    \"Option Type\": [\"Down-and-In Put\"],\n",
    "    \"Strike\": [K],\n",
    "    \"Barrier Level\": [barrier],\n",
    "    \"Jump Intensity (λ)\": [lam_q8],\n",
    "    \"Price\": [pdi_price_q15]\n",
    "})\n",
    "\n",
    "print(\"✅ Q15: European Down-and-In Put Option Pricing using Merton Model\")\n",
    "print(df_q15)\n"
   ]
  },
  {
   "cell_type": "code",
   "execution_count": null,
   "id": "7c272c7f-e2d7-4eb9-93cd-8ff202468f6d",
   "metadata": {},
   "outputs": [],
   "source": []
  },
  {
   "cell_type": "markdown",
   "id": "23cb4bb3",
   "metadata": {},
   "source": [
    "## MEMBER C: MODEL VALIDATION"
   ]
  },
  {
   "cell_type": "markdown",
   "id": "950a5d15",
   "metadata": {},
   "source": [
    "## Q11: Check the pricing of Member A: Heston model under Monte Carlo Simulation"
   ]
  },
  {
   "cell_type": "code",
   "execution_count": 1,
   "id": "a4786d80",
   "metadata": {},
   "outputs": [],
   "source": [
    "import matplotlib.pyplot as plt\n",
    "import numpy as np\n",
    "import scipy.stats as ss\n",
    "import pandas as pd"
   ]
  },
  {
   "cell_type": "code",
   "execution_count": 2,
   "id": "fb36a682",
   "metadata": {},
   "outputs": [],
   "source": [
    "#Member A\n",
    "# Global Parameters\n",
    "S0 = 80\n",
    "K = 80\n",
    "T = 0.25\n",
    "r = 0.055\n",
    "v0 = 0.032\n",
    "kappa = 1.85\n",
    "theta = 0.045\n",
    "sigma_v = 0.35\n",
    "n_steps = 100\n",
    "n_paths = 100000 # Monte Carlo paths\n",
    "dt = T / n_steps"
   ]
  },
  {
   "cell_type": "code",
   "execution_count": 3,
   "id": "d71d36ce",
   "metadata": {},
   "outputs": [
    {
     "name": "stdout",
     "output_type": "stream",
     "text": [
      "Correlation -0.3 | Call: $2.88 | Put: $1.79\n",
      "Correlation -0.7 | Call: $2.13 | Put: $1.03\n"
     ]
    }
   ],
   "source": [
    "#Q5 & Q6: European Option Pricing Using Heston Model (Monte Carlo Simulation)\n",
    "\n",
    "def heston_mc_parity_safe(S0, K, T, r, v0, kappa, theta, sigma_v, rho, n_paths, n_steps):\n",
    "    np.random.seed(42)\n",
    "    dt = T / n_steps\n",
    "    S = np.full(n_paths, S0, dtype=float)\n",
    "    v = np.full(n_paths, v0, dtype=float)\n",
    "\n",
    "    for _ in range(n_steps):\n",
    "        z1 = np.random.normal(size=n_paths)\n",
    "        z2 = np.random.normal(size=n_paths)\n",
    "        w1 = z1\n",
    "        w2 = rho * z1 + np.sqrt(1 - rho**2) * z2\n",
    "        v = np.maximum(0, v + kappa * (theta - v) * dt + sigma_v * np.sqrt(v * dt) * w2)\n",
    "        S *= np.exp((r - 0.5 * v) * dt + np.sqrt(v * dt) * w1)\n",
    "\n",
    "    call_payoffs = np.maximum(S - K, 0)\n",
    "    call_price = np.exp(-r * T) * np.mean(call_payoffs)\n",
    "\n",
    "    discounted_strike = K * np.exp(-r * T)\n",
    "    put_price = call_price - (S0 - discounted_strike)  # Member A does not simulate the put separately, instead, the put is derived directly from the parity relationship.\n",
    "\n",
    "    return S, round(call_price, 2), round(put_price, 2)\n",
    "\n",
    "# Run for rho = -0.3 and -0.7\n",
    "results = {}\n",
    "for rho in [-0.3, -0.7]:\n",
    "    S_paths, call, put = heston_mc_parity_safe(S0, K, T, r, v0, kappa, theta, sigma_v, rho, n_paths, n_steps)\n",
    "    results[rho] = (call, put)\n",
    "\n",
    "# Print results\n",
    "for rho, (call, put) in results.items():\n",
    "    print(f\"Correlation {rho} | Call: ${call} | Put: ${put}\")"
   ]
  },
  {
   "cell_type": "code",
   "execution_count": 4,
   "id": "908cef26",
   "metadata": {},
   "outputs": [
    {
     "data": {
      "text/plain": [
       "(2.127318777225357, 3.4410698179572488, 1.092472042636473, -2.406223083368365)"
      ]
     },
     "execution_count": 4,
     "metadata": {},
     "output_type": "execute_result"
    }
   ],
   "source": [
    "#Use the code of Member A but simulate Put and Call path separately\n",
    "# Independent Heston Monte Carlo Simulation for Call\n",
    "def heston_mc_call(S0, K, T, r, v0, kappa, theta, sigma_v, rho, n_paths, n_steps):\n",
    "    dt = T / n_steps\n",
    "    S = np.full(n_paths, S0, dtype=float)\n",
    "    v = np.full(n_paths, v0, dtype=float)\n",
    "    np.random.seed(42)\n",
    "    for _ in range(n_steps):\n",
    "        z1 = np.random.normal(size=n_paths)\n",
    "        z2 = np.random.normal(size=n_paths)\n",
    "        w1 = z1\n",
    "        w2 = rho * z1 + np.sqrt(1 - rho**2) * z2\n",
    "        v = np.maximum(0, v + kappa * (theta - v) * dt + sigma_v * np.sqrt(v * dt) * w2)\n",
    "        S *= np.exp((r - 0.5 * v) * dt + np.sqrt(v * dt) * w1)\n",
    "    call_price = np.exp(-r * T) * np.mean(np.maximum(S - K, 0))\n",
    "    return call_price\n",
    "\n",
    "# Independent Heston Monte Carlo Simulation for Put\n",
    "def heston_mc_put(S0, K, T, r, v0, kappa, theta, sigma_v, rho, n_paths, n_steps):\n",
    "    dt = T / n_steps\n",
    "    S = np.full(n_paths, S0, dtype=float)\n",
    "    v = np.full(n_paths, v0, dtype=float)\n",
    "    np.random.seed(42)\n",
    "    for _ in range(n_steps):\n",
    "        z1 = np.random.normal(size=n_paths)\n",
    "        z2 = np.random.normal(size=n_paths)\n",
    "        w1 = z1\n",
    "        w2 = rho * z1 + np.sqrt(1 - rho**2) * z2\n",
    "        v = np.maximum(0, v + kappa * (theta - v) * dt + sigma_v * np.sqrt(v * dt) * w2)\n",
    "        S *= np.exp((r - 0.5 * v) * dt + np.sqrt(v * dt) * w1)\n",
    "    put_price = np.exp(-r * T) * np.mean(np.maximum(K - S, 0))\n",
    "    return put_price\n",
    "\n",
    "# Run simulations\n",
    "call_price = heston_mc_call(S0, K, T, r, v0, kappa, theta, sigma_v, rho, n_paths, n_steps)\n",
    "put_price = heston_mc_put(S0, K, T, r, v0, kappa, theta, sigma_v, rho, n_paths, n_steps)\n",
    "\n",
    "# Compute put-call parity RHS\n",
    "rhs = S0 - K * np.exp(-r * T)\n",
    "diff = call_price - put_price - rhs\n",
    "\n",
    "(call_price, put_price, rhs, diff)"
   ]
  },
  {
   "cell_type": "markdown",
   "id": "604e2a99",
   "metadata": {},
   "source": [
    "#### Put-Call Parity does not hold in Member A's simulation. There are several possible reasons:\n",
    " - Not set a common random seed before generating random numbers.\n",
    " - Calculating the price of a non-independently simulated Put option. In Member A's code, only Call is simulated correctly, while Put is derived from Call price. \n",
    " - Not using the covariance matrix properly: Member A only creates z1, z2 and then combines them using a linear formula.\n",
    " - Member A uses v⋅dt directly without controlling the small value of v ⇒ easily causing errors\n",
    " - Insufficient number of time steps or paths (discretization error)."
   ]
  },
  {
   "cell_type": "code",
   "execution_count": 5,
   "id": "a65bca44",
   "metadata": {},
   "outputs": [
    {
     "name": "stdout",
     "output_type": "stream",
     "text": [
      "Call Price: 3.500830\n",
      "Put Price: 2.422965\n",
      "S0 - K*exp(-rT): 1.092472\n",
      "Diff: -0.014607\n"
     ]
    }
   ],
   "source": [
    "#Fix the code of Member A using the same random set\n",
    "import numpy as np\n",
    "\n",
    "# === Parameters ===\n",
    "S0 = 80\n",
    "K = 80\n",
    "T = 0.25\n",
    "r = 0.055\n",
    "v0 = 0.032\n",
    "kappa = 1.85\n",
    "theta = 0.045\n",
    "sigma_v = 0.35\n",
    "rho = -0.9\n",
    "I = 100000   # paths\n",
    "M0 = 500     # time steps per year\n",
    "M = int(M0 * T)\n",
    "dt = T / M\n",
    "\n",
    "# === Shared Random Numbers ===\n",
    "np.random.seed(42)\n",
    "rand = np.random.standard_normal((2, M + 1, I))\n",
    "cho_matrix = np.linalg.cholesky([[1.0, rho], [rho, 1.0]])\n",
    "\n",
    "# === Volatility Process ===\n",
    "def SDE_vol(v0, kappa, theta, sigma, M, I, rand, row, cho_matrix):\n",
    "    v = np.zeros((M + 1, I))\n",
    "    v[0] = v0\n",
    "    sdt = np.sqrt(dt)\n",
    "    for t in range(1, M + 1):\n",
    "        ran = np.dot(cho_matrix, rand[:, t])\n",
    "        v[t] = np.maximum(0, v[t - 1] + kappa * (theta - v[t - 1]) * dt + sigma * np.sqrt(v[t - 1]) * ran[row] * sdt)\n",
    "    return v\n",
    "\n",
    "# === Stock Process ===\n",
    "def Heston_paths(S0, r, v, row, cho_matrix):\n",
    "    S = np.zeros((M + 1, I))\n",
    "    S[0] = S0\n",
    "    sdt = np.sqrt(dt)\n",
    "    for t in range(1, M + 1):\n",
    "        ran = np.dot(cho_matrix, rand[:, t])\n",
    "        S[t] = S[t - 1] * np.exp((r - 0.5 * v[t - 1]) * dt + np.sqrt(v[t - 1]) * ran[row] * sdt)\n",
    "    return S\n",
    "\n",
    "# === Option Pricing ===\n",
    "def heston_call_mc(S, K, r, T, t):\n",
    "    payoff = np.maximum(S[-1] - K, 0)\n",
    "    return np.exp(-r * (T - t)) * np.mean(payoff)\n",
    "\n",
    "def heston_put_mc(S, K, r, T, t):\n",
    "    payoff = np.maximum(K - S[-1], 0)\n",
    "    return np.exp(-r * (T - t)) * np.mean(payoff)\n",
    "\n",
    "# === Run Simulation Once ===\n",
    "V = SDE_vol(v0, kappa, theta, sigma_v, M, I, rand, 1, cho_matrix)\n",
    "S = Heston_paths(S0, r, V, 0, cho_matrix)\n",
    "\n",
    "call_price = heston_call_mc(S, K, r, T, 0)\n",
    "put_price = heston_put_mc(S, K, r, T, 0)\n",
    "rhs = S0 - K * np.exp(-r * T)\n",
    "diff = call_price - put_price - rhs\n",
    "\n",
    "# === Output ===\n",
    "print(f\"Call Price: {call_price:.6f}\")\n",
    "print(f\"Put Price: {put_price:.6f}\")\n",
    "print(f\"S0 - K*exp(-rT): {rhs:.6f}\")\n",
    "print(f\"Diff: {diff:.6f}\")\n"
   ]
  },
  {
   "cell_type": "markdown",
   "id": "ce5e4550",
   "metadata": {},
   "source": [
    "The small deviation (≈ -0.014607) is expected in the Monte Carlo simulation because:\n",
    " - The simulation uses a finite number of steps (M = 500) and a finite number of paths (I = 10,000)\n",
    " - In particular, the Heston model has stochastic volatility, so the volatility is higher than the Black-Scholes model.\n",
    "However, the put-call parity is still almost kept within an acceptable error, showing that:\n",
    " - The Heston model still satisfies the theoretical condition of no arbitrage\n",
    " - The Monte Carlo implementation is reasonable, without too much deviation"
   ]
  },
  {
   "cell_type": "markdown",
   "id": "5fbb3b4b",
   "metadata": {},
   "source": [
    "### Member A's code will be rewritten to fix the errors mentioned above, then test if Put-Call Parity holds."
   ]
  },
  {
   "cell_type": "code",
   "execution_count": 6,
   "id": "44cd7d14",
   "metadata": {},
   "outputs": [],
   "source": [
    "#Reuse Parameters from Member A\n",
    "S0 = 80\n",
    "K = 80\n",
    "r = 0.055\n",
    "T = 0.25\n",
    "v0 = 0.032\n",
    "kappa_v = 1.85\n",
    "theta_v = 0.045\n",
    "sigma_v = 0.35\n",
    "rho = -0.9\n",
    "\n",
    "M0 = 500\n",
    "M = int(M0 * T)\n",
    "I = 10000\n",
    "dt = T / M"
   ]
  },
  {
   "cell_type": "code",
   "execution_count": 7,
   "id": "3803dfb7",
   "metadata": {},
   "outputs": [],
   "source": [
    "# === Random Number Generation ===\n",
    "np.random.seed(42)\n",
    "rand = np.random.standard_normal((2, M + 1, I))\n",
    "cho_matrix = np.linalg.cholesky([[1.0, rho], [rho, 1.0]])\n",
    "\n",
    "# === Volatility Process (CIR) ===\n",
    "def SDE_vol(v0, kappa, theta, sigma, T, M, I, rand, row, cho_matrix):\n",
    "    dt = T / M\n",
    "    v = np.zeros((M + 1, I))\n",
    "    v[0] = v0\n",
    "    sdt = np.sqrt(dt)\n",
    "    for t in range(1, M + 1):\n",
    "        ran = np.dot(cho_matrix, rand[:, t])\n",
    "        v[t] = np.maximum(0, v[t - 1] + kappa * (theta - v[t - 1]) * dt + sigma * np.sqrt(v[t - 1]) * ran[row] * sdt)\n",
    "    return v\n"
   ]
  },
  {
   "cell_type": "code",
   "execution_count": 8,
   "id": "bcc498ae",
   "metadata": {},
   "outputs": [
    {
     "data": {
      "text/plain": [
       "(3.48046469696286, 2.4791441848368923, 1.092472042636473, -0.09115153051050529)"
      ]
     },
     "execution_count": 8,
     "metadata": {},
     "output_type": "execute_result"
    }
   ],
   "source": [
    "# === Price Process ===\n",
    "def Heston_paths(S0, r, v, row, cho_matrix):\n",
    "    S = np.zeros((M + 1, I))\n",
    "    S[0] = S0\n",
    "    sdt = np.sqrt(dt)\n",
    "    for t in range(1, M + 1):\n",
    "        ran = np.dot(cho_matrix, rand[:, t])\n",
    "        S[t] = S[t - 1] * np.exp((r - 0.5 * v[t - 1]) * dt + np.sqrt(v[t - 1]) * ran[row] * sdt)\n",
    "    return S\n",
    "\n",
    "# === Option Pricing ===\n",
    "def heston_call_mc(S, K, r, T, t):\n",
    "    payoff = np.maximum(S[-1] - K, 0)\n",
    "    return np.exp(-r * (T - t)) * np.mean(payoff)\n",
    "\n",
    "def heston_put_mc(S, K, r, T, t):\n",
    "    payoff = np.maximum(K - S[-1], 0)\n",
    "    return np.exp(-r * (T - t)) * np.mean(payoff)\n",
    "\n",
    "# === Simulation ===\n",
    "V = SDE_vol(v0, kappa_v, theta_v, sigma_v, T, M, I, rand, 1, cho_matrix)\n",
    "S = Heston_paths(S0, r, V, 0, cho_matrix)\n",
    "\n",
    "# === Price Computation ===\n",
    "call_price = heston_call_mc(S, K, r, T, 0)\n",
    "put_price = heston_put_mc(S, K, r, T, 0)\n",
    "parity_lhs = call_price - put_price\n",
    "parity_rhs = S0 - K * np.exp(-r * T)\n",
    "diff = parity_lhs - parity_rhs\n",
    "\n",
    "(call_price, put_price, parity_rhs, diff)"
   ]
  },
  {
   "cell_type": "markdown",
   "id": "7a876592",
   "metadata": {},
   "source": [
    "## Q11: Check the pricing of Member B: Merton model \n"
   ]
  },
  {
   "cell_type": "code",
   "execution_count": 9,
   "id": "48a64d8b",
   "metadata": {},
   "outputs": [
    {
     "name": "stdout",
     "output_type": "stream",
     "text": [
      "✅ Q8: European Option Prices using Merton Model (λ = 0.75)\n",
      "  Option Type  Strike  λ (Jump Intensity)   Price\n",
      "0        Call      80                0.75  8.2931\n",
      "1         Put      80                0.75  7.1516\n"
     ]
    }
   ],
   "source": [
    "#Member B\n",
    "# Merton Jump Diffusion Model for European Options Pricing\n",
    "\n",
    "def merton_jump_diffusion_price(S0, K, r, sigma, T, mu_j, delta_j, lam, option_type=\"call\", n_paths=100000, n_steps=100):\n",
    "    dt = T / n_steps\n",
    "    drift = r - lam * (np.exp(mu_j + 0.5 * delta_j ** 2) - 1) - 0.5 * sigma ** 2\n",
    "    prices = np.full(n_paths, S0, dtype=np.float64)  # Ensure correct data type\n",
    "    \n",
    "    for step in range(n_steps):\n",
    "        z = np.random.normal(0, 1, n_paths)\n",
    "        poisson = np.random.poisson(lam * dt, n_paths)\n",
    "        jump_magnitude = np.random.normal(mu_j, delta_j, n_paths)\n",
    "        jump_factor = np.exp(jump_magnitude * poisson)\n",
    "        prices *= np.exp(drift * dt + sigma * np.sqrt(dt) * z) * jump_factor\n",
    "\n",
    "    if option_type == \"call\":\n",
    "        payoffs = np.maximum(prices - K, 0)\n",
    "    else:\n",
    "        payoffs = np.maximum(K - prices, 0)\n",
    "\n",
    "    discounted_payoff = np.exp(-r * T) * payoffs\n",
    "    return round(np.mean(discounted_payoff), 4)\n",
    "\n",
    "# Parameters\n",
    "S0 = 80\n",
    "K = 80\n",
    "r = 0.055\n",
    "sigma = 0.35\n",
    "T = 0.25\n",
    "mu_j = -0.5\n",
    "delta_j = 0.22\n",
    "lam = 0.75\n",
    "n_paths = 100000\n",
    "n_steps = 100\n",
    "\n",
    "# Calculate option prices for Question 8\n",
    "call_price_q8 = merton_jump_diffusion_price(S0, K, r, sigma, T, mu_j, delta_j, lam, \"call\")\n",
    "put_price_q8 = merton_jump_diffusion_price(S0, K, r, sigma, T, mu_j, delta_j, lam, \"put\")\n",
    "\n",
    "# Display results in a table\n",
    "df_q8 = pd.DataFrame({\n",
    "    \"Option Type\": [\"Call\", \"Put\"],\n",
    "    \"Strike\": [K, K],\n",
    "    \"λ (Jump Intensity)\": [lam, lam],\n",
    "    \"Price\": [call_price_q8, put_price_q8]\n",
    "})\n",
    "\n",
    "print(\"✅ Q8: European Option Prices using Merton Model (λ = 0.75)\")\n",
    "print(df_q8)\n"
   ]
  },
  {
   "cell_type": "code",
   "execution_count": 10,
   "id": "7147c167",
   "metadata": {},
   "outputs": [
    {
     "name": "stdout",
     "output_type": "stream",
     "text": [
      "\n",
      "Put-Call Parity Check (Merton Jump Diffusion Model)\n",
      "Call - Put = 1.1415000000000006\n",
      "S0 - K * exp(-rT) = 1.092472042636473\n",
      "Difference = 0.049028\n",
      "Put-Call Parity Holds? ✅ YES\n"
     ]
    }
   ],
   "source": [
    "discounted_strike = K * np.exp(-r * T)\n",
    "rhs = S0 - discounted_strike\n",
    "lhs = call_price_q8 - put_price_q8\n",
    "diff = round(lhs - rhs, 6)\n",
    "print(\"\\nPut-Call Parity Check (Merton Jump Diffusion Model)\")\n",
    "print(f\"Call - Put = {lhs}\")\n",
    "print(f\"S0 - K * exp(-rT) = {rhs}\")\n",
    "print(f\"Difference = {diff}\")\n",
    "print(\"Put-Call Parity Holds?\" , \"✅ YES\" if abs(diff) < 0.1 else \"❌ NO\")\n"
   ]
  },
  {
   "cell_type": "markdown",
   "id": "eae3fd60",
   "metadata": {},
   "source": [
    "## Q12: Run the Heston Model and Merton Model for 7 different strikes"
   ]
  },
  {
   "cell_type": "markdown",
   "id": "00132e89",
   "metadata": {},
   "source": [
    "## Heston Model"
   ]
  },
  {
   "cell_type": "code",
   "execution_count": 11,
   "id": "7cdd9591",
   "metadata": {},
   "outputs": [],
   "source": [
    "import numpy as np\n",
    "import pandas as pd\n",
    "\n",
    "# Parameters\n",
    "S0 = 80\n",
    "r = 0.055\n",
    "sigma = 0.35\n",
    "T = 0.25\n",
    "mu_j = -0.5\n",
    "delta_j = 0.22\n",
    "lam = 0.75\n",
    "n_paths = 100000\n",
    "n_steps = 100"
   ]
  },
  {
   "cell_type": "code",
   "execution_count": 12,
   "id": "e5e18722",
   "metadata": {},
   "outputs": [],
   "source": [
    "# Heston model parameters\n",
    "v0 = 0.032\n",
    "kappa_v = 1.85\n",
    "theta_v = 0.045\n",
    "sigma_v = 0.35\n",
    "rho = -0.3  # same as Q5\n",
    "M0 = 500\n",
    "M = int(M0 * T)\n",
    "I = 10000\n",
    "dt = T / M\n",
    "\n",
    "# Random Number Generation \n",
    "np.random.seed(42)\n",
    "rand = np.random.standard_normal((2, M + 1, I))\n",
    "cho_matrix = np.linalg.cholesky([[1.0, rho], [rho, 1.0]])\n",
    "\n",
    "def SDE_vol(v0, kappa, theta, sigma, T, M, I, rand, row, cho_matrix):\n",
    "    dt = T / M\n",
    "    v = np.zeros((M + 1, I))\n",
    "    v[0] = v0\n",
    "    sdt = np.sqrt(dt)\n",
    "    for t in range(1, M + 1):\n",
    "        ran = np.dot(cho_matrix, rand[:, t])\n",
    "        v[t] = np.maximum(0, v[t - 1] + kappa * (theta - v[t - 1]) * dt + sigma * np.sqrt(v[t - 1]) * ran[row] * sdt)\n",
    "    return v\n",
    "\n",
    "def Heston_paths(S0, r, v, row, cho_matrix):\n",
    "    S = np.zeros((M + 1, I))\n",
    "    S[0] = S0\n",
    "    sdt = np.sqrt(dt)\n",
    "    for t in range(1, M + 1):\n",
    "        ran = np.dot(cho_matrix, rand[:, t])\n",
    "        S[t] = S[t - 1] * np.exp((r - 0.5 * v[t - 1]) * dt + np.sqrt(v[t - 1]) * ran[row] * sdt)\n",
    "    return S\n",
    "\n",
    "def heston_call_mc(S, K, r, T, t):\n",
    "    payoff = np.maximum(S[-1] - K, 0)\n",
    "    return np.exp(-r * (T - t)) * np.mean(payoff)\n",
    "\n"
   ]
  },
  {
   "cell_type": "code",
   "execution_count": 13,
   "id": "a39012b4",
   "metadata": {},
   "outputs": [],
   "source": [
    "def merton_jump_diffusion_price(S0, K, r, sigma, T, mu_j, delta_j, lam, option_type=\"call\", n_paths=100000, n_steps=100):\n",
    "    dt = T / n_steps\n",
    "    drift = r - lam * (np.exp(mu_j + 0.5 * delta_j ** 2) - 1) - 0.5 * sigma ** 2\n",
    "    prices = np.full(n_paths, S0, dtype=np.float64)\n",
    "    \n",
    "    for step in range(n_steps):\n",
    "        z = np.random.normal(0, 1, n_paths)\n",
    "        poisson = np.random.poisson(lam * dt, n_paths)\n",
    "        jump_magnitude = np.random.normal(mu_j, delta_j, n_paths)\n",
    "        jump_factor = np.exp(jump_magnitude * poisson)\n",
    "        prices *= np.exp(drift * dt + sigma * np.sqrt(dt) * z) * jump_factor\n",
    "\n",
    "    if option_type == \"call\":\n",
    "        payoffs = np.maximum(prices - K, 0)\n",
    "    else:\n",
    "        payoffs = np.maximum(K - prices, 0)\n",
    "\n",
    "    discounted_payoff = np.exp(-r * T) * payoffs\n",
    "    return np.mean(discounted_payoff)\n"
   ]
  },
  {
   "cell_type": "code",
   "execution_count": 14,
   "id": "84f4a068",
   "metadata": {},
   "outputs": [
    {
     "name": "stdout",
     "output_type": "stream",
     "text": [
      "\n",
      "Call Option Prices (Q12)\n",
      "   Strike  Heston Call Price  Merton Call Price\n",
      "94.120000           0.121079           2.795821\n",
      "88.890000           0.510766           4.351535\n",
      "84.210000           1.549728           6.190912\n",
      "80.000000           3.422109           8.345036\n",
      "76.190000           5.913178          10.542940\n",
      "72.730000           8.690617          12.828700\n",
      "69.570000          11.512867          15.119825\n"
     ]
    }
   ],
   "source": [
    "# Strikes corresponding to approximate moneyness: 0.85 to 1.15\n",
    "strikes = [round(S0 / m, 2) for m in [0.85, 0.90, 0.95, 1.00, 1.05, 1.10, 1.15]]\n",
    "\n",
    "# Pre-allocate results\n",
    "heston_prices = []\n",
    "merton_prices = []\n",
    "\n",
    "# Simulate paths once\n",
    "V = SDE_vol(v0, kappa_v, theta_v, sigma_v, T, M, I, rand, 1, cho_matrix)\n",
    "S = Heston_paths(S0, r, V, 0, cho_matrix)\n",
    "\n",
    "# Compute prices for each strike\n",
    "for K in strikes:\n",
    "    heston_prices.append(heston_call_mc(S, K, r, T, 0))\n",
    "    merton_prices.append(merton_jump_diffusion_price(S0, K, r, sigma, T, mu_j, delta_j, lam, \"call\", n_paths, n_steps))\n",
    "\n",
    "# Return DataFrame for display\n",
    "result_df = pd.DataFrame({\n",
    "    \"Strike\": strikes,\n",
    "    \"Heston Call Price\": heston_prices,\n",
    "    \"Merton Call Price\": merton_prices\n",
    "})\n",
    "\n",
    "print(\"\\nCall Option Prices (Q12)\")\n",
    "print(result_df.to_string(index=False, float_format=lambda x: '{:.6f}'.format(x)))\n"
   ]
  },
  {
   "cell_type": "code",
   "execution_count": 15,
   "id": "762e91f0",
   "metadata": {},
   "outputs": [
    {
     "data": {
      "image/png": "[encoded data removed]",
      "text/plain": [
       "<Figure size 1000x600 with 1 Axes>"
      ]
     },
     "metadata": {},
     "output_type": "display_data"
    }
   ],
   "source": [
    "import matplotlib.pyplot as plt\n",
    "\n",
    "# Plotting the call option prices for both models\n",
    "plt.figure(figsize=(10, 6))\n",
    "plt.plot(result_df[\"Strike\"], result_df[\"Heston Call Price\"], label=\"Heston Model\", marker='o')\n",
    "plt.plot(result_df[\"Strike\"], result_df[\"Merton Call Price\"], label=\"Merton Model\", marker='x')\n",
    "plt.title(\"Call Option Prices vs Strike (Q12)\")\n",
    "plt.xlabel(\"Strike Price\")\n",
    "plt.ylabel(\"Call Option Price\")\n",
    "plt.legend()\n",
    "plt.grid(True)\n",
    "plt.tight_layout()\n",
    "plt.show()\n"
   ]
  },
  {
   "cell_type": "code",
   "execution_count": null,
   "id": "3b5af9f5",
   "metadata": {},
   "outputs": [],
   "source": []
  }
 ],
 "metadata": {
  "kernelspec": {
   "display_name": "base",
   "language": "python",
   "name": "python3"
  },
  "language_info": {
   "name": "python",
   "version": "3.11.7"
  }
 },
 "nbformat": 4,
 "nbformat_minor": 5
}
